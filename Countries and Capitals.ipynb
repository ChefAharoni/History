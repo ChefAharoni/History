{
 "cells": [
  {
   "cell_type": "markdown",
   "metadata": {
    "collapsed": false
   },
   "source": [
    "# Welcome to the Countries & Capitals game!\n",
    "\n",
    "Click 'Run' from the menu above -> and then the 'Run All' button."
   ]
  },
  {
   "cell_type": "code",
   "execution_count": null,
   "metadata": {
    "collapsed": true
   },
   "outputs": [
    {
     "name": "stdout",
     "output_type": "stream",
     "text": [
      "Welcome back, \u001b[92mChefStar\u001b[0m!\n",
      "Your current score is \u001b[1m548\u001b[0m.\n",
      "What is \u001b[1mDenmark\u001b[0m's capital?\n",
      "\n",
      "\u001b[42mCorrect!\u001b[0m Denmark's capital is indeed Copenhagen.\n",
      "\n",
      "What is \u001b[1mNetherlands\u001b[0m's capital?\n",
      "\n",
      "\u001b[42mCorrect!\u001b[0m Netherlands's capital is indeed Amsterdam.\n",
      "\n",
      "What is \u001b[1mFrance\u001b[0m's capital?\n",
      "\n",
      "\u001b[42mCorrect!\u001b[0m France's capital is indeed Paris.\n",
      "\n",
      "What is \u001b[1mBelgium\u001b[0m's capital?\n",
      "\n",
      "\u001b[42mCorrect!\u001b[0m Belgium's capital is indeed Brussels.\n",
      "\n",
      "What is \u001b[1mCroatia\u001b[0m's capital?\n",
      "The 1st letter is Z\n",
      "\n",
      "\u001b[42mCorrect!\u001b[0m Croatia's capital is indeed Zagreb.\n",
      "\n",
      "What is \u001b[1mCzech Republic\u001b[0m's capital?\n",
      "\n",
      "\u001b[42mCorrect!\u001b[0m Czech Republic's capital is indeed Prague.\n",
      "\n",
      "What is \u001b[1mFinland\u001b[0m's capital?\n",
      "\n",
      "\u001b[42mCorrect!\u001b[0m Finland's capital is indeed Helsinki.\n",
      "\n",
      "Your updated score is \u001b[1m580\u001b[0m.\n",
      "You are currently ranked in the \u001b[1m\u001b[93m1st\u001b[0m place.\n",
      "Your score has increased by \u001b[1m32\u001b[0m points.\n",
      "\n",
      "------------------------------------\n",
      "\n",
      "Your average answer time per round is \u001b[97m2.137\u001b[39m seconds.\n"
     ]
    }
   ],
   "source": [
    "# for requirements type \"pip freeze\" in terminal, copy and paste to requirements.txt file.\n",
    "# import os\n",
    "# import sys\n",
    "# module_path = os.path.abspath(os.path.join('..'))\n",
    "# if module_path not in sys.path:\n",
    "#     sys.path.append(module_path)\n",
    "\n",
    "import Countries\n",
    "\n",
    "Countries.main()"
   ]
  }
 ],
 "metadata": {
  "kernelspec": {
   "display_name": "Python 3",
   "language": "python",
   "name": "python3"
  },
  "language_info": {
   "codemirror_mode": {
    "name": "ipython",
    "version": 2
   },
   "file_extension": ".py",
   "mimetype": "text/x-python",
   "name": "python",
   "nbconvert_exporter": "python",
   "pygments_lexer": "ipython2",
   "version": "2.7.6"
  }
 },
 "nbformat": 4,
 "nbformat_minor": 0
}
