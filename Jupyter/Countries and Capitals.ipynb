{
 "cells": [
  {
   "cell_type": "code",
   "execution_count": 1,
   "metadata": {
    "collapsed": true
   },
   "outputs": [
    {
     "name": "stdout",
     "output_type": "stream",
     "text": [
      "Welcome back, \u001B[92mKatara\u001B[0m!\n",
      "Your current score is \u001B[1m23\u001B[0m.\n",
      "What is \u001B[1mNetherlands\u001B[0m's capital?\n",
      "Sorry, couldn't found \u001B[3mAmsterdaa\u001B[0m in our database.\n",
      "Did you mean Amsterdam?\n",
      "\n",
      "\u001B[42mCorrect!\u001B[0m Netherlands's capital is indeed Amsterdam.\n",
      "\n",
      "What is \u001B[1mUkraine\u001B[0m's capital?\n",
      "\n",
      "\u001B[42mCorrect!\u001B[0m Ukraine's capital is indeed Kiev.\n",
      "\n",
      "What is \u001B[1mSweden\u001B[0m's capital?\n",
      "The 1st letter is S\n",
      "\n",
      "\u001B[40mWrong ;(\u001B[0m\n",
      "Sweden's capital is Stockholm.\n",
      "\n",
      "What is \u001B[1mUnited Kingdom\u001B[0m's capital?\n",
      "\n",
      "\u001B[42mCorrect!\u001B[0m United Kingdom's capital is indeed London.\n",
      "\n",
      "Your updated score is \u001B[1m33\u001B[0m.\n",
      "You are currently ranked in the \u001B[1m\u001B[93m4th\u001B[0m place.\n",
      "Your score has increased by \u001B[1m10\u001B[0m points.\n",
      "\n",
      "------------------------------------\n",
      "\n",
      "Your average answer time per round is \u001B[97m6.428\u001B[39m seconds.\n"
     ]
    }
   ],
   "source": [
    "import Countries\n",
    "\n",
    "Countries.main()"
   ]
  }
 ],
 "metadata": {
  "kernelspec": {
   "display_name": "Python 3",
   "language": "python",
   "name": "python3"
  },
  "language_info": {
   "codemirror_mode": {
    "name": "ipython",
    "version": 2
   },
   "file_extension": ".py",
   "mimetype": "text/x-python",
   "name": "python",
   "nbconvert_exporter": "python",
   "pygments_lexer": "ipython2",
   "version": "2.7.6"
  }
 },
 "nbformat": 4,
 "nbformat_minor": 0
}
